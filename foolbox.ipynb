{
  "nbformat": 4,
  "nbformat_minor": 0,
  "metadata": {
    "colab": {
      "name": "foolbox.ipynb",
      "provenance": [],
      "authorship_tag": "ABX9TyNAKv47ne+ontr3lN1P4Drs",
      "include_colab_link": true
    },
    "kernelspec": {
      "name": "python3",
      "display_name": "Python 3"
    },
    "language_info": {
      "name": "python"
    },
    "accelerator": "GPU"
  },
  "cells": [
    {
      "cell_type": "markdown",
      "metadata": {
        "id": "view-in-github",
        "colab_type": "text"
      },
      "source": [
        "<a href=\"https://colab.research.google.com/github/ivanlee1999/adversaryAttack/blob/master/foolbox.ipynb\" target=\"_parent\"><img src=\"https://colab.research.google.com/assets/colab-badge.svg\" alt=\"Open In Colab\"/></a>"
      ]
    },
    {
      "cell_type": "code",
      "execution_count": 1,
      "metadata": {
        "id": "G0xRtJCZ0RLb"
      },
      "outputs": [],
      "source": [
        "from __future__ import print_function\n",
        "import torch\n",
        "import torch.nn as nn\n",
        "import torch.nn.functional as F\n",
        "import torch.optim as optim\n",
        "from torchvision import datasets, transforms\n",
        "import numpy as np\n",
        "import matplotlib.pyplot as plt\n",
        "from tqdm import tqdm"
      ]
    },
    {
      "cell_type": "code",
      "source": [
        "# Load Mnist data\n",
        "test_loader = torch.utils.data.DataLoader(\n",
        "    datasets.MNIST('../data', train=False, download=True, transform=transforms.Compose([\n",
        "            transforms.ToTensor(),\n",
        "            ])),\n",
        "        batch_size=10, shuffle=True)\n",
        "train_loader = torch.utils.data.DataLoader(\n",
        "    datasets.MNIST('../data', train=True, download=True, transform=transforms.Compose([\n",
        "            transforms.ToTensor(),\n",
        "            ])),\n",
        "        batch_size=10, shuffle=True)"
      ],
      "metadata": {
        "id": "kP2AKEUq0gxh"
      },
      "execution_count": 2,
      "outputs": []
    },
    {
      "cell_type": "code",
      "source": [
        "# ultra parameter\n",
        "batch_size = 10\n",
        "epoch = 1\n",
        "learning_rate = 0.001\n"
      ],
      "metadata": {
        "id": "kke9jPDZ0j8I"
      },
      "execution_count": 3,
      "outputs": []
    },
    {
      "cell_type": "code",
      "source": [
        "# LeNet Model definition\n",
        "class Net(nn.Module):\n",
        "    def __init__(self):\n",
        "        super(Net, self).__init__()\n",
        "        self.conv1 = nn.Conv2d(1, 10, kernel_size=5)\n",
        "        self.conv2 = nn.Conv2d(10, 20, kernel_size=5)\n",
        "        self.conv2_drop = nn.Dropout2d()\n",
        "        self.fc1 = nn.Linear(320, 50)\n",
        "        self.fc2 = nn.Linear(50, 10)\n",
        "\n",
        "    def forward(self, x):\n",
        "        x = F.relu(F.max_pool2d(self.conv1(x), 2))\n",
        "        x = F.relu(F.max_pool2d(self.conv2_drop(self.conv2(x)), 2))\n",
        "        x = x.view(-1, 320)\n",
        "        x = F.relu(self.fc1(x))\n",
        "        x = F.dropout(x, training=self.training)\n",
        "        x = self.fc2(x)\n",
        "        return F.log_softmax(x, dim=1)"
      ],
      "metadata": {
        "id": "GvH1z3jr0mxM"
      },
      "execution_count": 4,
      "outputs": []
    },
    {
      "cell_type": "code",
      "source": [
        "# load to cudo\n",
        "device = torch.device(\"cuda\" if (torch.cuda.is_available()) else \"cpu\")\n"
      ],
      "metadata": {
        "id": "Wf_YzGhP0qcv"
      },
      "execution_count": 5,
      "outputs": []
    },
    {
      "cell_type": "code",
      "source": [
        "device"
      ],
      "metadata": {
        "colab": {
          "base_uri": "https://localhost:8080/"
        },
        "id": "bGU-i-Zs0rQy",
        "outputId": "fa87e89a-65a2-4f89-d741-a6d5d8485fc7"
      },
      "execution_count": 6,
      "outputs": [
        {
          "output_type": "execute_result",
          "data": {
            "text/plain": [
              "device(type='cuda')"
            ]
          },
          "metadata": {},
          "execution_count": 6
        }
      ]
    },
    {
      "cell_type": "code",
      "source": [
        "# initialize network\n",
        "simple_model = Net().to(device)\n",
        "optimizer1 = torch.optim.SGD(simple_model.parameters(),lr = learning_rate,momentum=0.9)\n",
        "print (simple_model)"
      ],
      "metadata": {
        "colab": {
          "base_uri": "https://localhost:8080/"
        },
        "id": "4RhDfy6T0rwo",
        "outputId": "029977c8-22a5-4e1a-d45d-f2f7d28a2973"
      },
      "execution_count": 7,
      "outputs": [
        {
          "output_type": "stream",
          "name": "stdout",
          "text": [
            "Net(\n",
            "  (conv1): Conv2d(1, 10, kernel_size=(5, 5), stride=(1, 1))\n",
            "  (conv2): Conv2d(10, 20, kernel_size=(5, 5), stride=(1, 1))\n",
            "  (conv2_drop): Dropout2d(p=0.5, inplace=False)\n",
            "  (fc1): Linear(in_features=320, out_features=50, bias=True)\n",
            "  (fc2): Linear(in_features=50, out_features=10, bias=True)\n",
            ")\n"
          ]
        }
      ]
    },
    {
      "cell_type": "code",
      "source": [
        "# train model\n",
        "def train(model,optimizer):\n",
        "  for i in range(epoch):\n",
        "    for j,(data,target) in tqdm(enumerate(train_loader)):\n",
        "      data = data.to(device)\n",
        "      target = target.to(device)\n",
        "      logit = model(data)\n",
        "      loss = F.nll_loss(logit,target)\n",
        "      model.zero_grad()\n",
        "      \n",
        "      loss.backward()\n",
        "      optimizer.step()\n",
        "      # if j % 1000 == 0:\n",
        "      #   print ('data{},loss{}'.format(j,loss))\n",
        "train(simple_model,optimizer1)"
      ],
      "metadata": {
        "colab": {
          "base_uri": "https://localhost:8080/"
        },
        "id": "T2cRoE13009G",
        "outputId": "8e1244f2-38da-4c75-88cb-b8cced775653"
      },
      "execution_count": 16,
      "outputs": [
        {
          "output_type": "stream",
          "name": "stderr",
          "text": [
            "6000it [00:16, 365.81it/s]\n"
          ]
        }
      ]
    },
    {
      "cell_type": "code",
      "source": [
        "# eval eval\n",
        "simple_model.eval()\n",
        "\n",
        "# test data\n",
        "def test(model,name):\n",
        "  correct_num = torch.tensor(0).to(device)\n",
        "  for j,(data,target) in tqdm(enumerate(test_loader)):\n",
        "    data = data.to(device)\n",
        "    target = target.to(device)\n",
        "    logit = model(data)\n",
        "    pred = logit.max(1)[1]\n",
        "    num = torch.sum(pred==target)\n",
        "    correct_num = correct_num + num\n",
        "  print (correct_num)\n",
        "  print ('\\n{} correct rate is {}'.format(name,correct_num/10000))\n",
        "\n",
        "test(simple_model,'simple model')"
      ],
      "metadata": {
        "colab": {
          "base_uri": "https://localhost:8080/"
        },
        "id": "GxSWGMVM0409",
        "outputId": "7cd8f7d5-dbf5-468c-9424-5babe6d16352"
      },
      "execution_count": 9,
      "outputs": [
        {
          "output_type": "stream",
          "name": "stderr",
          "text": [
            "1000it [00:01, 620.87it/s]"
          ]
        },
        {
          "output_type": "stream",
          "name": "stdout",
          "text": [
            "tensor(9527, device='cuda:0')\n",
            "\n",
            "simple model correct rate is 0.9526999592781067\n"
          ]
        },
        {
          "output_type": "stream",
          "name": "stderr",
          "text": [
            "\n"
          ]
        }
      ]
    },
    {
      "cell_type": "code",
      "source": [
        "!pip install foolbox"
      ],
      "metadata": {
        "colab": {
          "base_uri": "https://localhost:8080/"
        },
        "id": "mqGBP2J05WGD",
        "outputId": "b6fbdc92-f586-4ae0-fa43-dcbde88dd3da"
      },
      "execution_count": 10,
      "outputs": [
        {
          "output_type": "stream",
          "name": "stdout",
          "text": [
            "Requirement already satisfied: foolbox in /usr/local/lib/python3.7/dist-packages (3.3.3)\n",
            "Requirement already satisfied: setuptools in /usr/local/lib/python3.7/dist-packages (from foolbox) (57.4.0)\n",
            "Requirement already satisfied: scipy in /usr/local/lib/python3.7/dist-packages (from foolbox) (1.4.1)\n",
            "Requirement already satisfied: eagerpy>=0.30.0 in /usr/local/lib/python3.7/dist-packages (from foolbox) (0.30.0)\n",
            "Requirement already satisfied: typing-extensions>=3.7.4.1 in /usr/local/lib/python3.7/dist-packages (from foolbox) (4.2.0)\n",
            "Requirement already satisfied: numpy in /usr/local/lib/python3.7/dist-packages (from foolbox) (1.21.6)\n",
            "Requirement already satisfied: requests>=2.24.0 in /usr/local/lib/python3.7/dist-packages (from foolbox) (2.27.1)\n",
            "Requirement already satisfied: GitPython>=3.0.7 in /usr/local/lib/python3.7/dist-packages (from foolbox) (3.1.27)\n",
            "Requirement already satisfied: gitdb<5,>=4.0.1 in /usr/local/lib/python3.7/dist-packages (from GitPython>=3.0.7->foolbox) (4.0.9)\n",
            "Requirement already satisfied: smmap<6,>=3.0.1 in /usr/local/lib/python3.7/dist-packages (from gitdb<5,>=4.0.1->GitPython>=3.0.7->foolbox) (5.0.0)\n",
            "Requirement already satisfied: charset-normalizer~=2.0.0 in /usr/local/lib/python3.7/dist-packages (from requests>=2.24.0->foolbox) (2.0.12)\n",
            "Requirement already satisfied: idna<4,>=2.5 in /usr/local/lib/python3.7/dist-packages (from requests>=2.24.0->foolbox) (2.10)\n",
            "Requirement already satisfied: certifi>=2017.4.17 in /usr/local/lib/python3.7/dist-packages (from requests>=2.24.0->foolbox) (2021.10.8)\n",
            "Requirement already satisfied: urllib3<1.27,>=1.21.1 in /usr/local/lib/python3.7/dist-packages (from requests>=2.24.0->foolbox) (1.24.3)\n"
          ]
        }
      ]
    },
    {
      "cell_type": "code",
      "source": [
        "import foolbox as fb  \n",
        "from foolbox.criteria import TargetedMisclassification\n",
        "\n",
        "# here change to our model\n",
        "fmodel = fb.PyTorchModel(simple_model,bounds=(0,1))\n",
        "images, labels = fb.utils.samples(fmodel, dataset='mnist', batchsize=10)\n",
        "\n",
        "print (images.shape)\n",
        "print (labels.shape)"
      ],
      "metadata": {
        "colab": {
          "base_uri": "https://localhost:8080/"
        },
        "id": "AdaRyuwg1YpW",
        "outputId": "3b7e3650-069e-4f79-c51d-b3e363d08a6b"
      },
      "execution_count": 17,
      "outputs": [
        {
          "output_type": "stream",
          "name": "stdout",
          "text": [
            "torch.Size([10, 1, 28, 28])\n",
            "torch.Size([10])\n"
          ]
        }
      ]
    },
    {
      "cell_type": "code",
      "source": [
        "import time\n",
        "\n",
        "# plot\n",
        "def plot_clean_and_adver(adver_example,adver_target,clean_example,clean_target,attack_name):\n",
        "  n_cols = 2\n",
        "  n_rows = 5\n",
        "  cnt = 1\n",
        "  cnt1 = 1\n",
        "  plt.figure(figsize=(4*n_rows,2*n_cols))\n",
        "  for i in range(n_cols):\n",
        "    for j in range(n_rows):\n",
        "      plt.subplot(n_cols,n_rows*2,cnt1)\n",
        "      plt.xticks([])\n",
        "      plt.yticks([])\n",
        "      if j == 0:\n",
        "        plt.ylabel(attack_name,size=15)\n",
        "      plt.title(\"{} -> {}\".format(clean_target[cnt-1], adver_target[cnt-1]))\n",
        "      plt.imshow(clean_example[cnt-1].reshape(28,28).to('cpu').detach().numpy(),cmap='gray')\n",
        "      plt.subplot(n_cols,n_rows*2,cnt1+1)\n",
        "      plt.xticks([])\n",
        "      plt.yticks([])\n",
        "      # plt.title(\"{} -> {}\".format(clean_target[cnt], adver_target[cnt]))\n",
        "      plt.imshow(adver_example[cnt-1].reshape(28,28).to('cpu').detach().numpy(),cmap='gray')\n",
        "      cnt = cnt + 1\n",
        "      cnt1 = cnt1 + 2\n",
        "  plt.show()\n",
        "  print ('\\n')"
      ],
      "metadata": {
        "id": "0q5tIXwb2fU8"
      },
      "execution_count": 12,
      "outputs": []
    },
    {
      "cell_type": "code",
      "source": [
        "# change to a specific label n\n",
        "def CW_target(n):\n",
        "  start = time.time()\n",
        "  criterion = TargetedMisclassification(torch.tensor([n]*batch_size,device = device))\n",
        "  attack = fb.attacks.L2CarliniWagnerAttack()\n",
        "  raw, clipped, is_adv = attack(fmodel,images.to(device),epsilons=0.2,criterion = criterion)\n",
        "  adver_target = torch.max(fmodel(raw),1)[1]\n",
        "  plot_clean_and_adver(raw,adver_target,images,labels,'CW targeted')\n",
        "  end = time.time()\n",
        "  print ('CW target running {} seconds using google colab GPU'.format((end-start)))"
      ],
      "metadata": {
        "id": "e6XnjAM655XY"
      },
      "execution_count": 13,
      "outputs": []
    },
    {
      "cell_type": "code",
      "source": [
        "# random attact to other model\n",
        "def CW_untarget():\n",
        "  start = time.time()\n",
        "  attack = fb.attacks.L2CarliniWagnerAttack()\n",
        "  raw, clipped, is_adv = attack(fmodel,images.to(device),labels.to(device),epsilons=0.2)\n",
        "  adver_target = torch.max(fmodel(raw),1)[1]\n",
        "  plot_clean_and_adver(raw,adver_target,images,labels,'CW untargeted')\n",
        "  end = time.time()\n",
        "  print ('CW untargeted running {} seconds using google colab GPU'.format((end-start)))"
      ],
      "metadata": {
        "id": "AjCrx7qe57L0"
      },
      "execution_count": 14,
      "outputs": []
    },
    {
      "cell_type": "code",
      "source": [
        "CW_target(4)\n",
        "CW_untarget()"
      ],
      "metadata": {
        "colab": {
          "base_uri": "https://localhost:8080/",
          "height": 624
        },
        "id": "v_AlrupQ59Ip",
        "outputId": "b4ca570c-5ab1-4615-c665-68251cf92b03"
      },
      "execution_count": 15,
      "outputs": [
        {
          "output_type": "display_data",
          "data": {
            "text/plain": [
              "<Figure size 1440x288 with 20 Axes>"
            ],
            "image/png": "[encoded data removed]"
          },
          "metadata": {}
        },
        {
          "output_type": "stream",
          "name": "stdout",
          "text": [
            "\n",
            "\n",
            "CW target running 105.43646669387817 seconds using google colab GPU\n"
          ]
        },
        {
          "output_type": "display_data",
          "data": {
            "text/plain": [
              "<Figure size 1440x288 with 20 Axes>"
            ],
            "image/png": "[encoded data removed]"
          },
          "metadata": {}
        },
        {
          "output_type": "stream",
          "name": "stdout",
          "text": [
            "\n",
            "\n",
            "CW untargeted running 80.73789572715759 seconds using google colab GPU\n"
          ]
        }
      ]
    }
  ]
}